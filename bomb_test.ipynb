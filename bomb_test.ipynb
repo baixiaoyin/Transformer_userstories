{
 "cells": [
  {
   "cell_type": "code",
   "execution_count": null,
   "metadata": {},
   "outputs": [],
   "source": []
  },
  {
   "cell_type": "code",
   "execution_count": 44,
   "metadata": {},
   "outputs": [
    {
     "name": "stdout",
     "output_type": "stream",
     "text": [
      "['HHH', 'AAA', 'BBB', 'CCC', 'DDD', 'EEE', 'FFF']\n",
      "['HHH', 'AAA', 'BBB', 'CCC', 'DDD', 'EEE']\n",
      "['AAA', 'BBB', 'CCC', 'DDD', 'EEE']\n",
      "['CCC', 'DDD', 'EEE']\n",
      "['DDD', 'EEE']\n",
      "['EEE']\n"
     ]
    }
   ],
   "source": [
    "player_list = [\"AAA\", \"BBB\", \"CCC\", \"DDD\", \"EEE\", \"FFF\", \"GGG\", \"HHH\"]\n",
    "\n",
    "m = 6\n",
    "\n",
    "while (len(player_list)>1):\n",
    "    \n",
    "    if len(player_list)>m:\n",
    "        player_list = player_list[m+1:]+player_list[:m]\n",
    "        \n",
    "    else:\n",
    "        l = len(player_list)\n",
    "        n = 1+ int(m/l)\n",
    "        player_list_temp = player_list * n\n",
    "        player_list = player_list_temp[m+1:] + player_list_temp[m*(n-1):m]\n",
    "        if player_list == []:\n",
    "            player_list.append(player_list_temp[0])\n",
    "        \n",
    "    print(player_list)\n",
    "        \n",
    "        \n"
   ]
  },
  {
   "cell_type": "code",
   "execution_count": 41,
   "metadata": {},
   "outputs": [
    {
     "name": "stdout",
     "output_type": "stream",
     "text": [
      "['EEE', 'FFF', 'GGG', 'AAA', 'BBB', 'CCC']\n",
      "['BBB', 'CCC', 'EEE', 'FFF', 'GGG']\n",
      "['GGG', 'BBB', 'CCC', 'EEE']\n",
      "['EEE']\n"
     ]
    }
   ],
   "source": [
    "player_list = [\"AAA\", \"BBB\", \"CCC\", \"DDD\", \"EEE\", \"FFF\", \"GGG\"]\n",
    "\n",
    "m = 3\n",
    "\n",
    "while (len(player_list)>1):\n",
    "\n",
    "    l = len(player_list)\n",
    "    n = 1+ int(m/l)\n",
    "    player_list_temp = player_list * n\n",
    "#     print(player_list_temp)\n",
    "    if len(player_list_temp) == m+1:\n",
    "        player_list = player_list_temp[m+1:] + list([player_list_temp[m]])\n",
    "    else:\n",
    "        player_list = player_list_temp[m+1:] + player_list_temp[m*(n-1):m]\n",
    "        \n",
    "    print(player_list)"
   ]
  },
  {
   "cell_type": "code",
   "execution_count": 29,
   "metadata": {},
   "outputs": [
    {
     "name": "stdout",
     "output_type": "stream",
     "text": [
      "['AAA', 'BBB', 'CCC', 'DDD', 'EEE', 'FFF']\n",
      "['EEE', 'FFF', 'AAA', 'BBB', 'CCC']\n",
      "['EEE', 'FFF', 'AAA', 'BBB', 'CCC']\n",
      "['CCC', 'EEE', 'FFF', 'AAA']\n",
      "['CCC', 'EEE', 'FFF', 'AAA']\n",
      "['CCC', 'EEE', 'FFF']\n",
      "['CCC', 'EEE', 'FFF', 'CCC', 'EEE', 'FFF']\n",
      "['EEE', 'FFF']\n",
      "['EEE', 'FFF', 'EEE', 'FFF']\n",
      "[]\n"
     ]
    }
   ],
   "source": [
    "player_list = [\"AAA\", \"BBB\", \"CCC\", \"DDD\", \"EEE\", \"FFF\"]\n",
    "\n",
    "m = 3\n",
    "\n",
    "while (len(player_list)>1):\n",
    "\n",
    "    l = len(player_list)\n",
    "    n = 1+ int(m/l)\n",
    "    player_list_temp = player_list * n\n",
    "    print(player_list_temp)\n",
    "\n",
    "    player_list = player_list_temp[m+1:] + player_list_temp[m*(n-1):m]\n",
    "        \n",
    "    print(player_list)"
   ]
  },
  {
   "cell_type": "code",
   "execution_count": 36,
   "metadata": {},
   "outputs": [
    {
     "data": {
      "text/plain": [
       "['FFF']"
      ]
     },
     "execution_count": 36,
     "metadata": {},
     "output_type": "execute_result"
    }
   ],
   "source": [
    "a = ['EEE', 'FFF', 'EEE', 'FFF']\n",
    "list([a[3]])\n"
   ]
  },
  {
   "cell_type": "code",
   "execution_count": 4,
   "metadata": {},
   "outputs": [
    {
     "data": {
      "text/plain": [
       "['EEE', 'FFF', 'AAA', 'BBB']"
      ]
     },
     "execution_count": 4,
     "metadata": {},
     "output_type": "execute_result"
    }
   ],
   "source": [
    "m = 3\n",
    "player_list = [\"AAA\", \"BBB\", \"CCC\", \"DDD\", \"EEE\", \"FFF\"]\n",
    "player_list = player_list[m+1:]+player_list[:m-1]\n",
    "player_list"
   ]
  },
  {
   "cell_type": "code",
   "execution_count": 5,
   "metadata": {},
   "outputs": [
    {
     "data": {
      "text/plain": [
       "['EEE',\n",
       " 'FFF',\n",
       " 'AAA',\n",
       " 'BBB',\n",
       " 'EEE',\n",
       " 'FFF',\n",
       " 'AAA',\n",
       " 'BBB',\n",
       " 'EEE',\n",
       " 'FFF',\n",
       " 'AAA',\n",
       " 'BBB']"
      ]
     },
     "execution_count": 5,
     "metadata": {},
     "output_type": "execute_result"
    }
   ],
   "source": [
    "player_list * 3"
   ]
  },
  {
   "cell_type": "code",
   "execution_count": null,
   "metadata": {},
   "outputs": [],
   "source": []
  }
 ],
 "metadata": {
  "kernelspec": {
   "display_name": "Python 3",
   "language": "python",
   "name": "python3"
  },
  "language_info": {
   "codemirror_mode": {
    "name": "ipython",
    "version": 3
   },
   "file_extension": ".py",
   "mimetype": "text/x-python",
   "name": "python",
   "nbconvert_exporter": "python",
   "pygments_lexer": "ipython3",
   "version": "3.7.7"
  }
 },
 "nbformat": 4,
 "nbformat_minor": 4
}
